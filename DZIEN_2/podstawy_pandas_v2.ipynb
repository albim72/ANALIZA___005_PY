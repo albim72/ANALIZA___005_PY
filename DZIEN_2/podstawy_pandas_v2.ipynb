{
 "cells":[
  {
   "cell_type":"code",
   "source":[
    "import pandas as pd"
   ],
   "execution_count":2,
   "outputs":[],
   "metadata":{
    "datalore":{
     "node_id":"thpDO9japuPfi76tncjxlj",
     "type":"CODE",
     "hide_input_from_viewers":true,
     "hide_output_from_viewers":true
    }
   }
  },
  {
   "cell_type":"code",
   "source":[
    "obj = pd.Series([4,7,-5,3],index=['a','b','n','k'],name='moje_wartości')\n",
    "obj"
   ],
   "execution_count":5,
   "outputs":[
    {
     "data":{
      "text\/html":[
       "<pre>a    4\n",
       "b    7\n",
       "n   -5\n",
       "k    3\n",
       "Name: moje_wartości, dtype: int64<\/pre>"
      ]
     },
     "metadata":{},
     "output_type":"display_data"
    }
   ],
   "metadata":{
    "datalore":{
     "node_id":"Qnxmq0J5QVXzgBPSYNDE7C",
     "type":"CODE",
     "hide_input_from_viewers":true,
     "hide_output_from_viewers":true
    }
   }
  },
  {
   "cell_type":"code",
   "source":[
    "obj['a']"
   ],
   "execution_count":6,
   "outputs":[
    {
     "data":{
      "text\/plain":[
       "4"
      ]
     },
     "metadata":{},
     "output_type":"display_data"
    }
   ],
   "metadata":{
    "datalore":{
     "node_id":"sLnM8eOg85EMKCUkUsBh69",
     "type":"CODE",
     "hide_input_from_viewers":true,
     "hide_output_from_viewers":true
    }
   }
  },
  {
   "cell_type":"code",
   "source":[
    "obj[obj>2]"
   ],
   "execution_count":7,
   "outputs":[
    {
     "data":{
      "text\/html":[
       "<pre>a    4\n",
       "b    7\n",
       "k    3\n",
       "Name: moje_wartości, dtype: int64<\/pre>"
      ]
     },
     "metadata":{},
     "output_type":"display_data"
    }
   ],
   "metadata":{
    "datalore":{
     "node_id":"3vYDCzWl2fAyEg6KeW35hE",
     "type":"CODE",
     "hide_input_from_viewers":true,
     "hide_output_from_viewers":true
    }
   }
  },
  {
   "cell_type":"code",
   "source":[
    "obj*3"
   ],
   "execution_count":8,
   "outputs":[
    {
     "data":{
      "text\/html":[
       "<pre>a    12\n",
       "b    21\n",
       "n   -15\n",
       "k     9\n",
       "Name: moje_wartości, dtype: int64<\/pre>"
      ]
     },
     "metadata":{},
     "output_type":"display_data"
    }
   ],
   "metadata":{
    "datalore":{
     "node_id":"Q11MULM4DAMlICCoo6eq9A",
     "type":"CODE",
     "hide_input_from_viewers":true,
     "hide_output_from_viewers":true
    }
   }
  },
  {
   "cell_type":"code",
   "source":[
    "import numpy as np\n",
    "np.sqrt(obj)"
   ],
   "execution_count":11,
   "outputs":[
    {
     "name":"stderr",
     "text":[
      "\/opt\/python\/envs\/default\/lib\/python3.8\/site-packages\/pandas\/core\/arraylike.py:402: RuntimeWarning: invalid value encountered in sqrt\n",
      "  result = getattr(ufunc, method)(*inputs, **kwargs)\n"
     ],
     "output_type":"stream"
    },
    {
     "data":{
      "text\/html":[
       "<pre>a    2.000000\n",
       "b    2.645751\n",
       "n         NaN\n",
       "k    1.732051\n",
       "Name: moje_wartości, dtype: float64<\/pre>"
      ]
     },
     "metadata":{},
     "output_type":"display_data"
    }
   ],
   "metadata":{
    "datalore":{
     "node_id":"m2v9Bfg73IKrjTjw2lqRJ6",
     "type":"CODE",
     "hide_input_from_viewers":true,
     "hide_output_from_viewers":true
    }
   }
  },
  {
   "cell_type":"code",
   "source":[
    "sdata = {'Warszawa':45600,'Kraków':41300,'Lublin':37800,'Gdańsk':38900}\n",
    "sdata"
   ],
   "execution_count":12,
   "outputs":[
    {
     "data":{
      "text\/plain":[
       "{'Warszawa': 45600, 'Kraków': 41300, 'Lublin': 37800, 'Gdańsk': 38900}"
      ]
     },
     "metadata":{},
     "output_type":"display_data"
    }
   ],
   "metadata":{
    "datalore":{
     "node_id":"93p5M3t9unWQaBfNPkSNcd",
     "type":"CODE",
     "hide_input_from_viewers":true,
     "hide_output_from_viewers":true
    }
   }
  },
  {
   "cell_type":"code",
   "source":[
    "obj3 = pd.Series(sdata,name=\"liczba wniosków\")\n",
    "obj3"
   ],
   "execution_count":14,
   "outputs":[
    {
     "data":{
      "text\/html":[
       "<pre>Warszawa    45600\n",
       "Kraków      41300\n",
       "Lublin      37800\n",
       "Gdańsk      38900\n",
       "Name: liczba wniosków, dtype: int64<\/pre>"
      ]
     },
     "metadata":{},
     "output_type":"display_data"
    }
   ],
   "metadata":{
    "datalore":{
     "node_id":"3hN64MLoffKVHGXJD0sXf6",
     "type":"CODE",
     "hide_input_from_viewers":true,
     "hide_output_from_viewers":true
    }
   }
  },
  {
   "cell_type":"code",
   "source":[
    "#obiekt DataFrame\n",
    "data = {\n",
    "    'miasto':['Warszawa','Warszawa','Warszawa','Kraków','Kraków','Kraków'],\n",
    "    'rok':[2017,2018,2019,2018,2019,2020],\n",
    "    'populacja':[2.7,2.75,3.05,0.8,0.85,1.05]\n",
    "}\n",
    "\n",
    "frame = pd.DataFrame(data)"
   ],
   "execution_count":15,
   "outputs":[],
   "metadata":{
    "datalore":{
     "node_id":"ckok2hUMG2re0BSg23LKRu",
     "type":"CODE",
     "hide_input_from_viewers":true,
     "hide_output_from_viewers":true
    }
   }
  },
  {
   "cell_type":"code",
   "source":[
    "frame"
   ],
   "execution_count":16,
   "outputs":[
    {
     "data":{
      "text\/html":[
       "<div>\n",
       "<style scoped>\n",
       "    .dataframe tbody tr th:only-of-type {\n",
       "        vertical-align: middle;\n",
       "    }\n",
       "\n",
       "    .dataframe tbody tr th {\n",
       "        vertical-align: top;\n",
       "    }\n",
       "\n",
       "    .dataframe thead th {\n",
       "        text-align: right;\n",
       "    }\n",
       "<\/style>\n",
       "<table border=\"1\" class=\"dataframe\">\n",
       "  <thead>\n",
       "    <tr style=\"text-align: right;\">\n",
       "      <th><\/th>\n",
       "      <th>miasto<\/th>\n",
       "      <th>rok<\/th>\n",
       "      <th>populacja<\/th>\n",
       "    <\/tr>\n",
       "  <\/thead>\n",
       "  <tbody>\n",
       "    <tr>\n",
       "      <th>0<\/th>\n",
       "      <td>Warszawa<\/td>\n",
       "      <td>2017<\/td>\n",
       "      <td>2.70<\/td>\n",
       "    <\/tr>\n",
       "    <tr>\n",
       "      <th>1<\/th>\n",
       "      <td>Warszawa<\/td>\n",
       "      <td>2018<\/td>\n",
       "      <td>2.75<\/td>\n",
       "    <\/tr>\n",
       "    <tr>\n",
       "      <th>2<\/th>\n",
       "      <td>Warszawa<\/td>\n",
       "      <td>2019<\/td>\n",
       "      <td>3.05<\/td>\n",
       "    <\/tr>\n",
       "    <tr>\n",
       "      <th>3<\/th>\n",
       "      <td>Kraków<\/td>\n",
       "      <td>2018<\/td>\n",
       "      <td>0.80<\/td>\n",
       "    <\/tr>\n",
       "    <tr>\n",
       "      <th>4<\/th>\n",
       "      <td>Kraków<\/td>\n",
       "      <td>2019<\/td>\n",
       "      <td>0.85<\/td>\n",
       "    <\/tr>\n",
       "    <tr>\n",
       "      <th>5<\/th>\n",
       "      <td>Kraków<\/td>\n",
       "      <td>2020<\/td>\n",
       "      <td>1.05<\/td>\n",
       "    <\/tr>\n",
       "  <\/tbody>\n",
       "<\/table>\n",
       "<\/div>"
      ]
     },
     "metadata":{},
     "output_type":"display_data"
    }
   ],
   "metadata":{
    "datalore":{
     "node_id":"SA0MZnwVWVStFDNnlgAHBo",
     "type":"CODE",
     "hide_input_from_viewers":true,
     "hide_output_from_viewers":true
    }
   }
  },
  {
   "cell_type":"code",
   "source":[
    "frame2 = pd.DataFrame(data,index=['w2017','w2018','w2019','k2018','k2019','k2020'], columns=['rok','miasto','populacja','liczba wniosków'])\n",
    "frame2"
   ],
   "execution_count":20,
   "outputs":[
    {
     "data":{
      "text\/html":[
       "<div>\n",
       "<style scoped>\n",
       "    .dataframe tbody tr th:only-of-type {\n",
       "        vertical-align: middle;\n",
       "    }\n",
       "\n",
       "    .dataframe tbody tr th {\n",
       "        vertical-align: top;\n",
       "    }\n",
       "\n",
       "    .dataframe thead th {\n",
       "        text-align: right;\n",
       "    }\n",
       "<\/style>\n",
       "<table border=\"1\" class=\"dataframe\">\n",
       "  <thead>\n",
       "    <tr style=\"text-align: right;\">\n",
       "      <th><\/th>\n",
       "      <th>rok<\/th>\n",
       "      <th>miasto<\/th>\n",
       "      <th>populacja<\/th>\n",
       "      <th>liczba wniosków<\/th>\n",
       "    <\/tr>\n",
       "  <\/thead>\n",
       "  <tbody>\n",
       "    <tr>\n",
       "      <th>w2017<\/th>\n",
       "      <td>2017<\/td>\n",
       "      <td>Warszawa<\/td>\n",
       "      <td>2.70<\/td>\n",
       "      <td>NaN<\/td>\n",
       "    <\/tr>\n",
       "    <tr>\n",
       "      <th>w2018<\/th>\n",
       "      <td>2018<\/td>\n",
       "      <td>Warszawa<\/td>\n",
       "      <td>2.75<\/td>\n",
       "      <td>NaN<\/td>\n",
       "    <\/tr>\n",
       "    <tr>\n",
       "      <th>w2019<\/th>\n",
       "      <td>2019<\/td>\n",
       "      <td>Warszawa<\/td>\n",
       "      <td>3.05<\/td>\n",
       "      <td>NaN<\/td>\n",
       "    <\/tr>\n",
       "    <tr>\n",
       "      <th>k2018<\/th>\n",
       "      <td>2018<\/td>\n",
       "      <td>Kraków<\/td>\n",
       "      <td>0.80<\/td>\n",
       "      <td>NaN<\/td>\n",
       "    <\/tr>\n",
       "    <tr>\n",
       "      <th>k2019<\/th>\n",
       "      <td>2019<\/td>\n",
       "      <td>Kraków<\/td>\n",
       "      <td>0.85<\/td>\n",
       "      <td>NaN<\/td>\n",
       "    <\/tr>\n",
       "    <tr>\n",
       "      <th>k2020<\/th>\n",
       "      <td>2020<\/td>\n",
       "      <td>Kraków<\/td>\n",
       "      <td>1.05<\/td>\n",
       "      <td>NaN<\/td>\n",
       "    <\/tr>\n",
       "  <\/tbody>\n",
       "<\/table>\n",
       "<\/div>"
      ]
     },
     "metadata":{},
     "output_type":"display_data"
    }
   ],
   "metadata":{
    "datalore":{
     "node_id":"V1M74uBvDK114LZiW3MmQ9",
     "type":"CODE",
     "hide_input_from_viewers":true,
     "hide_output_from_viewers":true
    }
   }
  },
  {
   "cell_type":"code",
   "source":[
    "frame2['liczba wniosków'] = 10000\n",
    "frame2"
   ],
   "execution_count":21,
   "outputs":[
    {
     "data":{
      "text\/html":[
       "<div>\n",
       "<style scoped>\n",
       "    .dataframe tbody tr th:only-of-type {\n",
       "        vertical-align: middle;\n",
       "    }\n",
       "\n",
       "    .dataframe tbody tr th {\n",
       "        vertical-align: top;\n",
       "    }\n",
       "\n",
       "    .dataframe thead th {\n",
       "        text-align: right;\n",
       "    }\n",
       "<\/style>\n",
       "<table border=\"1\" class=\"dataframe\">\n",
       "  <thead>\n",
       "    <tr style=\"text-align: right;\">\n",
       "      <th><\/th>\n",
       "      <th>rok<\/th>\n",
       "      <th>miasto<\/th>\n",
       "      <th>populacja<\/th>\n",
       "      <th>liczba wniosków<\/th>\n",
       "    <\/tr>\n",
       "  <\/thead>\n",
       "  <tbody>\n",
       "    <tr>\n",
       "      <th>w2017<\/th>\n",
       "      <td>2017<\/td>\n",
       "      <td>Warszawa<\/td>\n",
       "      <td>2.70<\/td>\n",
       "      <td>10000<\/td>\n",
       "    <\/tr>\n",
       "    <tr>\n",
       "      <th>w2018<\/th>\n",
       "      <td>2018<\/td>\n",
       "      <td>Warszawa<\/td>\n",
       "      <td>2.75<\/td>\n",
       "      <td>10000<\/td>\n",
       "    <\/tr>\n",
       "    <tr>\n",
       "      <th>w2019<\/th>\n",
       "      <td>2019<\/td>\n",
       "      <td>Warszawa<\/td>\n",
       "      <td>3.05<\/td>\n",
       "      <td>10000<\/td>\n",
       "    <\/tr>\n",
       "    <tr>\n",
       "      <th>k2018<\/th>\n",
       "      <td>2018<\/td>\n",
       "      <td>Kraków<\/td>\n",
       "      <td>0.80<\/td>\n",
       "      <td>10000<\/td>\n",
       "    <\/tr>\n",
       "    <tr>\n",
       "      <th>k2019<\/th>\n",
       "      <td>2019<\/td>\n",
       "      <td>Kraków<\/td>\n",
       "      <td>0.85<\/td>\n",
       "      <td>10000<\/td>\n",
       "    <\/tr>\n",
       "    <tr>\n",
       "      <th>k2020<\/th>\n",
       "      <td>2020<\/td>\n",
       "      <td>Kraków<\/td>\n",
       "      <td>1.05<\/td>\n",
       "      <td>10000<\/td>\n",
       "    <\/tr>\n",
       "  <\/tbody>\n",
       "<\/table>\n",
       "<\/div>"
      ]
     },
     "metadata":{},
     "output_type":"display_data"
    }
   ],
   "metadata":{
    "datalore":{
     "node_id":"u5r9hvPejRKOQvNNcbjdwM",
     "type":"CODE",
     "hide_input_from_viewers":true,
     "hide_output_from_viewers":true
    }
   }
  },
  {
   "cell_type":"code",
   "source":[
    "frame2['liczba wniosków'] = np.array([23400,24500,37600,15460,16800,21300])\n",
    "frame2"
   ],
   "execution_count":22,
   "outputs":[
    {
     "data":{
      "text\/html":[
       "<div>\n",
       "<style scoped>\n",
       "    .dataframe tbody tr th:only-of-type {\n",
       "        vertical-align: middle;\n",
       "    }\n",
       "\n",
       "    .dataframe tbody tr th {\n",
       "        vertical-align: top;\n",
       "    }\n",
       "\n",
       "    .dataframe thead th {\n",
       "        text-align: right;\n",
       "    }\n",
       "<\/style>\n",
       "<table border=\"1\" class=\"dataframe\">\n",
       "  <thead>\n",
       "    <tr style=\"text-align: right;\">\n",
       "      <th><\/th>\n",
       "      <th>rok<\/th>\n",
       "      <th>miasto<\/th>\n",
       "      <th>populacja<\/th>\n",
       "      <th>liczba wniosków<\/th>\n",
       "    <\/tr>\n",
       "  <\/thead>\n",
       "  <tbody>\n",
       "    <tr>\n",
       "      <th>w2017<\/th>\n",
       "      <td>2017<\/td>\n",
       "      <td>Warszawa<\/td>\n",
       "      <td>2.70<\/td>\n",
       "      <td>23400<\/td>\n",
       "    <\/tr>\n",
       "    <tr>\n",
       "      <th>w2018<\/th>\n",
       "      <td>2018<\/td>\n",
       "      <td>Warszawa<\/td>\n",
       "      <td>2.75<\/td>\n",
       "      <td>24500<\/td>\n",
       "    <\/tr>\n",
       "    <tr>\n",
       "      <th>w2019<\/th>\n",
       "      <td>2019<\/td>\n",
       "      <td>Warszawa<\/td>\n",
       "      <td>3.05<\/td>\n",
       "      <td>37600<\/td>\n",
       "    <\/tr>\n",
       "    <tr>\n",
       "      <th>k2018<\/th>\n",
       "      <td>2018<\/td>\n",
       "      <td>Kraków<\/td>\n",
       "      <td>0.80<\/td>\n",
       "      <td>15460<\/td>\n",
       "    <\/tr>\n",
       "    <tr>\n",
       "      <th>k2019<\/th>\n",
       "      <td>2019<\/td>\n",
       "      <td>Kraków<\/td>\n",
       "      <td>0.85<\/td>\n",
       "      <td>16800<\/td>\n",
       "    <\/tr>\n",
       "    <tr>\n",
       "      <th>k2020<\/th>\n",
       "      <td>2020<\/td>\n",
       "      <td>Kraków<\/td>\n",
       "      <td>1.05<\/td>\n",
       "      <td>21300<\/td>\n",
       "    <\/tr>\n",
       "  <\/tbody>\n",
       "<\/table>\n",
       "<\/div>"
      ]
     },
     "metadata":{},
     "output_type":"display_data"
    }
   ],
   "metadata":{
    "datalore":{
     "node_id":"Wrnfd0T3GkYJJe4l9Q8iAD",
     "type":"CODE",
     "hide_input_from_viewers":true,
     "hide_output_from_viewers":true
    }
   }
  },
  {
   "cell_type":"code",
   "source":[
    "daty = pd.date_range(\"20240528\",periods=6)\n",
    "daty"
   ],
   "execution_count":30,
   "outputs":[
    {
     "data":{
      "text\/plain":[
       "DatetimeIndex(['2024-05-28', '2024-05-29', '2024-05-30', '2024-05-31',\n",
       "               '2024-06-01', '2024-06-02'],\n",
       "              dtype='datetime64[ns]', freq='D')"
      ]
     },
     "metadata":{},
     "output_type":"display_data"
    }
   ],
   "metadata":{
    "datalore":{
     "node_id":"vDemGsqkNsNbEZ0LgwgjAv",
     "type":"CODE",
     "hide_input_from_viewers":true,
     "hide_output_from_viewers":true
    }
   }
  },
  {
   "cell_type":"code",
   "source":[
    "fr = pd.DataFrame(np.random.randn(6,4),index=daty,columns=list(\"ABCD\"))\n",
    "fr"
   ],
   "execution_count":31,
   "outputs":[
    {
     "data":{
      "text\/html":[
       "<div>\n",
       "<style scoped>\n",
       "    .dataframe tbody tr th:only-of-type {\n",
       "        vertical-align: middle;\n",
       "    }\n",
       "\n",
       "    .dataframe tbody tr th {\n",
       "        vertical-align: top;\n",
       "    }\n",
       "\n",
       "    .dataframe thead th {\n",
       "        text-align: right;\n",
       "    }\n",
       "<\/style>\n",
       "<table border=\"1\" class=\"dataframe\">\n",
       "  <thead>\n",
       "    <tr style=\"text-align: right;\">\n",
       "      <th><\/th>\n",
       "      <th>A<\/th>\n",
       "      <th>B<\/th>\n",
       "      <th>C<\/th>\n",
       "      <th>D<\/th>\n",
       "    <\/tr>\n",
       "  <\/thead>\n",
       "  <tbody>\n",
       "    <tr>\n",
       "      <th>2024-05-28<\/th>\n",
       "      <td>0.141507<\/td>\n",
       "      <td>-0.635809<\/td>\n",
       "      <td>-2.074460<\/td>\n",
       "      <td>0.292690<\/td>\n",
       "    <\/tr>\n",
       "    <tr>\n",
       "      <th>2024-05-29<\/th>\n",
       "      <td>2.752242<\/td>\n",
       "      <td>-0.052390<\/td>\n",
       "      <td>-0.466497<\/td>\n",
       "      <td>-1.141902<\/td>\n",
       "    <\/tr>\n",
       "    <tr>\n",
       "      <th>2024-05-30<\/th>\n",
       "      <td>-0.640012<\/td>\n",
       "      <td>-0.277379<\/td>\n",
       "      <td>1.046890<\/td>\n",
       "      <td>1.289513<\/td>\n",
       "    <\/tr>\n",
       "    <tr>\n",
       "      <th>2024-05-31<\/th>\n",
       "      <td>1.177826<\/td>\n",
       "      <td>-0.492059<\/td>\n",
       "      <td>0.079571<\/td>\n",
       "      <td>-0.316610<\/td>\n",
       "    <\/tr>\n",
       "    <tr>\n",
       "      <th>2024-06-01<\/th>\n",
       "      <td>-0.573998<\/td>\n",
       "      <td>-0.114471<\/td>\n",
       "      <td>-0.181753<\/td>\n",
       "      <td>-0.109711<\/td>\n",
       "    <\/tr>\n",
       "    <tr>\n",
       "      <th>2024-06-02<\/th>\n",
       "      <td>0.137487<\/td>\n",
       "      <td>0.784223<\/td>\n",
       "      <td>-0.197585<\/td>\n",
       "      <td>0.369371<\/td>\n",
       "    <\/tr>\n",
       "  <\/tbody>\n",
       "<\/table>\n",
       "<\/div>"
      ]
     },
     "metadata":{},
     "output_type":"display_data"
    }
   ],
   "metadata":{
    "datalore":{
     "node_id":"tOYzPDh7rba22dbUg57u4y",
     "type":"CODE",
     "hide_input_from_viewers":true,
     "hide_output_from_viewers":true
    }
   }
  },
  {
   "cell_type":"code",
   "source":[
    "fr.head(3)"
   ],
   "execution_count":34,
   "outputs":[
    {
     "data":{
      "text\/html":[
       "<div>\n",
       "<style scoped>\n",
       "    .dataframe tbody tr th:only-of-type {\n",
       "        vertical-align: middle;\n",
       "    }\n",
       "\n",
       "    .dataframe tbody tr th {\n",
       "        vertical-align: top;\n",
       "    }\n",
       "\n",
       "    .dataframe thead th {\n",
       "        text-align: right;\n",
       "    }\n",
       "<\/style>\n",
       "<table border=\"1\" class=\"dataframe\">\n",
       "  <thead>\n",
       "    <tr style=\"text-align: right;\">\n",
       "      <th><\/th>\n",
       "      <th>A<\/th>\n",
       "      <th>B<\/th>\n",
       "      <th>C<\/th>\n",
       "      <th>D<\/th>\n",
       "    <\/tr>\n",
       "  <\/thead>\n",
       "  <tbody>\n",
       "    <tr>\n",
       "      <th>2024-05-28<\/th>\n",
       "      <td>0.141507<\/td>\n",
       "      <td>-0.635809<\/td>\n",
       "      <td>-2.074460<\/td>\n",
       "      <td>0.292690<\/td>\n",
       "    <\/tr>\n",
       "    <tr>\n",
       "      <th>2024-05-29<\/th>\n",
       "      <td>2.752242<\/td>\n",
       "      <td>-0.052390<\/td>\n",
       "      <td>-0.466497<\/td>\n",
       "      <td>-1.141902<\/td>\n",
       "    <\/tr>\n",
       "    <tr>\n",
       "      <th>2024-05-30<\/th>\n",
       "      <td>-0.640012<\/td>\n",
       "      <td>-0.277379<\/td>\n",
       "      <td>1.046890<\/td>\n",
       "      <td>1.289513<\/td>\n",
       "    <\/tr>\n",
       "  <\/tbody>\n",
       "<\/table>\n",
       "<\/div>"
      ]
     },
     "metadata":{},
     "output_type":"display_data"
    }
   ],
   "metadata":{
    "datalore":{
     "node_id":"mC3PhyeSFBnwyOr6TidAgl",
     "type":"CODE",
     "hide_input_from_viewers":true,
     "hide_output_from_viewers":true
    }
   }
  },
  {
   "cell_type":"code",
   "source":[
    "fr.tail(4)"
   ],
   "execution_count":35,
   "outputs":[
    {
     "data":{
      "text\/html":[
       "<div>\n",
       "<style scoped>\n",
       "    .dataframe tbody tr th:only-of-type {\n",
       "        vertical-align: middle;\n",
       "    }\n",
       "\n",
       "    .dataframe tbody tr th {\n",
       "        vertical-align: top;\n",
       "    }\n",
       "\n",
       "    .dataframe thead th {\n",
       "        text-align: right;\n",
       "    }\n",
       "<\/style>\n",
       "<table border=\"1\" class=\"dataframe\">\n",
       "  <thead>\n",
       "    <tr style=\"text-align: right;\">\n",
       "      <th><\/th>\n",
       "      <th>A<\/th>\n",
       "      <th>B<\/th>\n",
       "      <th>C<\/th>\n",
       "      <th>D<\/th>\n",
       "    <\/tr>\n",
       "  <\/thead>\n",
       "  <tbody>\n",
       "    <tr>\n",
       "      <th>2024-05-30<\/th>\n",
       "      <td>-0.640012<\/td>\n",
       "      <td>-0.277379<\/td>\n",
       "      <td>1.046890<\/td>\n",
       "      <td>1.289513<\/td>\n",
       "    <\/tr>\n",
       "    <tr>\n",
       "      <th>2024-05-31<\/th>\n",
       "      <td>1.177826<\/td>\n",
       "      <td>-0.492059<\/td>\n",
       "      <td>0.079571<\/td>\n",
       "      <td>-0.316610<\/td>\n",
       "    <\/tr>\n",
       "    <tr>\n",
       "      <th>2024-06-01<\/th>\n",
       "      <td>-0.573998<\/td>\n",
       "      <td>-0.114471<\/td>\n",
       "      <td>-0.181753<\/td>\n",
       "      <td>-0.109711<\/td>\n",
       "    <\/tr>\n",
       "    <tr>\n",
       "      <th>2024-06-02<\/th>\n",
       "      <td>0.137487<\/td>\n",
       "      <td>0.784223<\/td>\n",
       "      <td>-0.197585<\/td>\n",
       "      <td>0.369371<\/td>\n",
       "    <\/tr>\n",
       "  <\/tbody>\n",
       "<\/table>\n",
       "<\/div>"
      ]
     },
     "metadata":{},
     "output_type":"display_data"
    }
   ],
   "metadata":{
    "datalore":{
     "node_id":"Mkzp0DiAHnQrY2gSBjw9hM",
     "type":"CODE",
     "hide_input_from_viewers":true,
     "hide_output_from_viewers":true
    }
   }
  },
  {
   "cell_type":"code",
   "source":[
    "fr.to_numpy()"
   ],
   "execution_count":36,
   "outputs":[
    {
     "data":{
      "text\/html":[
       "<pre>array([[ 0.1415069 , -0.63580936, -2.0744604 ,  0.29269011],\n",
       "       [ 2.75224194, -0.05238994, -0.46649724, -1.14190154],\n",
       "       [-0.64001206, -0.27737862,  1.04689036,  1.28951256],\n",
       "       [ 1.17782585, -0.49205881,  0.07957073, -0.31660964],\n",
       "       [-0.57399823, -0.11447053, -0.18175265, -0.10971112],\n",
       "       [ 0.13748701,  0.7842235 , -0.19758458,  0.36937145]])<\/pre>"
      ]
     },
     "metadata":{},
     "output_type":"display_data"
    }
   ],
   "metadata":{
    "datalore":{
     "node_id":"PQrz1BXwyKAEtmfhpylGv2",
     "type":"CODE",
     "hide_input_from_viewers":true,
     "hide_output_from_viewers":true
    }
   }
  },
  {
   "cell_type":"code",
   "source":[
    "fr.describe()"
   ],
   "execution_count":37,
   "outputs":[
    {
     "data":{
      "text\/html":[
       "<div>\n",
       "<style scoped>\n",
       "    .dataframe tbody tr th:only-of-type {\n",
       "        vertical-align: middle;\n",
       "    }\n",
       "\n",
       "    .dataframe tbody tr th {\n",
       "        vertical-align: top;\n",
       "    }\n",
       "\n",
       "    .dataframe thead th {\n",
       "        text-align: right;\n",
       "    }\n",
       "<\/style>\n",
       "<table border=\"1\" class=\"dataframe\">\n",
       "  <thead>\n",
       "    <tr style=\"text-align: right;\">\n",
       "      <th><\/th>\n",
       "      <th>A<\/th>\n",
       "      <th>B<\/th>\n",
       "      <th>C<\/th>\n",
       "      <th>D<\/th>\n",
       "    <\/tr>\n",
       "  <\/thead>\n",
       "  <tbody>\n",
       "    <tr>\n",
       "      <th>count<\/th>\n",
       "      <td>6.000000<\/td>\n",
       "      <td>6.000000<\/td>\n",
       "      <td>6.000000<\/td>\n",
       "      <td>6.000000<\/td>\n",
       "    <\/tr>\n",
       "    <tr>\n",
       "      <th>mean<\/th>\n",
       "      <td>0.499175<\/td>\n",
       "      <td>-0.131314<\/td>\n",
       "      <td>-0.298972<\/td>\n",
       "      <td>0.063892<\/td>\n",
       "    <\/tr>\n",
       "    <tr>\n",
       "      <th>std<\/th>\n",
       "      <td>1.284139<\/td>\n",
       "      <td>0.500142<\/td>\n",
       "      <td>1.015784<\/td>\n",
       "      <td>0.809527<\/td>\n",
       "    <\/tr>\n",
       "    <tr>\n",
       "      <th>min<\/th>\n",
       "      <td>-0.640012<\/td>\n",
       "      <td>-0.635809<\/td>\n",
       "      <td>-2.074460<\/td>\n",
       "      <td>-1.141902<\/td>\n",
       "    <\/tr>\n",
       "    <tr>\n",
       "      <th>25%<\/th>\n",
       "      <td>-0.396127<\/td>\n",
       "      <td>-0.438389<\/td>\n",
       "      <td>-0.399269<\/td>\n",
       "      <td>-0.264885<\/td>\n",
       "    <\/tr>\n",
       "    <tr>\n",
       "      <th>50%<\/th>\n",
       "      <td>0.139497<\/td>\n",
       "      <td>-0.195925<\/td>\n",
       "      <td>-0.189669<\/td>\n",
       "      <td>0.091489<\/td>\n",
       "    <\/tr>\n",
       "    <tr>\n",
       "      <th>75%<\/th>\n",
       "      <td>0.918746<\/td>\n",
       "      <td>-0.067910<\/td>\n",
       "      <td>0.014240<\/td>\n",
       "      <td>0.350201<\/td>\n",
       "    <\/tr>\n",
       "    <tr>\n",
       "      <th>max<\/th>\n",
       "      <td>2.752242<\/td>\n",
       "      <td>0.784223<\/td>\n",
       "      <td>1.046890<\/td>\n",
       "      <td>1.289513<\/td>\n",
       "    <\/tr>\n",
       "  <\/tbody>\n",
       "<\/table>\n",
       "<\/div>"
      ]
     },
     "metadata":{},
     "output_type":"display_data"
    }
   ],
   "metadata":{
    "datalore":{
     "node_id":"7kS25NXol2T8gMvek1dZh3",
     "type":"CODE",
     "hide_input_from_viewers":true,
     "hide_output_from_viewers":true
    }
   }
  },
  {
   "cell_type":"code",
   "source":[
    "fr.T"
   ],
   "execution_count":38,
   "outputs":[
    {
     "data":{
      "text\/html":[
       "<div>\n",
       "<style scoped>\n",
       "    .dataframe tbody tr th:only-of-type {\n",
       "        vertical-align: middle;\n",
       "    }\n",
       "\n",
       "    .dataframe tbody tr th {\n",
       "        vertical-align: top;\n",
       "    }\n",
       "\n",
       "    .dataframe thead th {\n",
       "        text-align: right;\n",
       "    }\n",
       "<\/style>\n",
       "<table border=\"1\" class=\"dataframe\">\n",
       "  <thead>\n",
       "    <tr style=\"text-align: right;\">\n",
       "      <th><\/th>\n",
       "      <th>2024-05-28<\/th>\n",
       "      <th>2024-05-29<\/th>\n",
       "      <th>2024-05-30<\/th>\n",
       "      <th>2024-05-31<\/th>\n",
       "      <th>2024-06-01<\/th>\n",
       "      <th>2024-06-02<\/th>\n",
       "    <\/tr>\n",
       "  <\/thead>\n",
       "  <tbody>\n",
       "    <tr>\n",
       "      <th>A<\/th>\n",
       "      <td>0.141507<\/td>\n",
       "      <td>2.752242<\/td>\n",
       "      <td>-0.640012<\/td>\n",
       "      <td>1.177826<\/td>\n",
       "      <td>-0.573998<\/td>\n",
       "      <td>0.137487<\/td>\n",
       "    <\/tr>\n",
       "    <tr>\n",
       "      <th>B<\/th>\n",
       "      <td>-0.635809<\/td>\n",
       "      <td>-0.052390<\/td>\n",
       "      <td>-0.277379<\/td>\n",
       "      <td>-0.492059<\/td>\n",
       "      <td>-0.114471<\/td>\n",
       "      <td>0.784223<\/td>\n",
       "    <\/tr>\n",
       "    <tr>\n",
       "      <th>C<\/th>\n",
       "      <td>-2.074460<\/td>\n",
       "      <td>-0.466497<\/td>\n",
       "      <td>1.046890<\/td>\n",
       "      <td>0.079571<\/td>\n",
       "      <td>-0.181753<\/td>\n",
       "      <td>-0.197585<\/td>\n",
       "    <\/tr>\n",
       "    <tr>\n",
       "      <th>D<\/th>\n",
       "      <td>0.292690<\/td>\n",
       "      <td>-1.141902<\/td>\n",
       "      <td>1.289513<\/td>\n",
       "      <td>-0.316610<\/td>\n",
       "      <td>-0.109711<\/td>\n",
       "      <td>0.369371<\/td>\n",
       "    <\/tr>\n",
       "  <\/tbody>\n",
       "<\/table>\n",
       "<\/div>"
      ]
     },
     "metadata":{},
     "output_type":"display_data"
    }
   ],
   "metadata":{
    "datalore":{
     "node_id":"KtuyYHfUHf4e6toA8IR0J4",
     "type":"CODE",
     "hide_input_from_viewers":true,
     "hide_output_from_viewers":true
    }
   }
  },
  {
   "cell_type":"code",
   "source":[
    "fr.describe().T"
   ],
   "execution_count":39,
   "outputs":[
    {
     "data":{
      "text\/html":[
       "<div>\n",
       "<style scoped>\n",
       "    .dataframe tbody tr th:only-of-type {\n",
       "        vertical-align: middle;\n",
       "    }\n",
       "\n",
       "    .dataframe tbody tr th {\n",
       "        vertical-align: top;\n",
       "    }\n",
       "\n",
       "    .dataframe thead th {\n",
       "        text-align: right;\n",
       "    }\n",
       "<\/style>\n",
       "<table border=\"1\" class=\"dataframe\">\n",
       "  <thead>\n",
       "    <tr style=\"text-align: right;\">\n",
       "      <th><\/th>\n",
       "      <th>count<\/th>\n",
       "      <th>mean<\/th>\n",
       "      <th>std<\/th>\n",
       "      <th>min<\/th>\n",
       "      <th>25%<\/th>\n",
       "      <th>50%<\/th>\n",
       "      <th>75%<\/th>\n",
       "      <th>max<\/th>\n",
       "    <\/tr>\n",
       "  <\/thead>\n",
       "  <tbody>\n",
       "    <tr>\n",
       "      <th>A<\/th>\n",
       "      <td>6.0<\/td>\n",
       "      <td>0.499175<\/td>\n",
       "      <td>1.284139<\/td>\n",
       "      <td>-0.640012<\/td>\n",
       "      <td>-0.396127<\/td>\n",
       "      <td>0.139497<\/td>\n",
       "      <td>0.918746<\/td>\n",
       "      <td>2.752242<\/td>\n",
       "    <\/tr>\n",
       "    <tr>\n",
       "      <th>B<\/th>\n",
       "      <td>6.0<\/td>\n",
       "      <td>-0.131314<\/td>\n",
       "      <td>0.500142<\/td>\n",
       "      <td>-0.635809<\/td>\n",
       "      <td>-0.438389<\/td>\n",
       "      <td>-0.195925<\/td>\n",
       "      <td>-0.067910<\/td>\n",
       "      <td>0.784223<\/td>\n",
       "    <\/tr>\n",
       "    <tr>\n",
       "      <th>C<\/th>\n",
       "      <td>6.0<\/td>\n",
       "      <td>-0.298972<\/td>\n",
       "      <td>1.015784<\/td>\n",
       "      <td>-2.074460<\/td>\n",
       "      <td>-0.399269<\/td>\n",
       "      <td>-0.189669<\/td>\n",
       "      <td>0.014240<\/td>\n",
       "      <td>1.046890<\/td>\n",
       "    <\/tr>\n",
       "    <tr>\n",
       "      <th>D<\/th>\n",
       "      <td>6.0<\/td>\n",
       "      <td>0.063892<\/td>\n",
       "      <td>0.809527<\/td>\n",
       "      <td>-1.141902<\/td>\n",
       "      <td>-0.264885<\/td>\n",
       "      <td>0.091489<\/td>\n",
       "      <td>0.350201<\/td>\n",
       "      <td>1.289513<\/td>\n",
       "    <\/tr>\n",
       "  <\/tbody>\n",
       "<\/table>\n",
       "<\/div>"
      ]
     },
     "metadata":{},
     "output_type":"display_data"
    }
   ],
   "metadata":{
    "datalore":{
     "node_id":"0d7Oo6fIO8vCARhETpjBwu",
     "type":"CODE",
     "hide_input_from_viewers":true,
     "hide_output_from_viewers":true
    }
   }
  },
  {
   "cell_type":"code",
   "source":[
    "fr.sort_index(axis=1,ascending=False)"
   ],
   "execution_count":41,
   "outputs":[
    {
     "data":{
      "text\/html":[
       "<div>\n",
       "<style scoped>\n",
       "    .dataframe tbody tr th:only-of-type {\n",
       "        vertical-align: middle;\n",
       "    }\n",
       "\n",
       "    .dataframe tbody tr th {\n",
       "        vertical-align: top;\n",
       "    }\n",
       "\n",
       "    .dataframe thead th {\n",
       "        text-align: right;\n",
       "    }\n",
       "<\/style>\n",
       "<table border=\"1\" class=\"dataframe\">\n",
       "  <thead>\n",
       "    <tr style=\"text-align: right;\">\n",
       "      <th><\/th>\n",
       "      <th>D<\/th>\n",
       "      <th>C<\/th>\n",
       "      <th>B<\/th>\n",
       "      <th>A<\/th>\n",
       "    <\/tr>\n",
       "  <\/thead>\n",
       "  <tbody>\n",
       "    <tr>\n",
       "      <th>2024-05-28<\/th>\n",
       "      <td>0.292690<\/td>\n",
       "      <td>-2.074460<\/td>\n",
       "      <td>-0.635809<\/td>\n",
       "      <td>0.141507<\/td>\n",
       "    <\/tr>\n",
       "    <tr>\n",
       "      <th>2024-05-29<\/th>\n",
       "      <td>-1.141902<\/td>\n",
       "      <td>-0.466497<\/td>\n",
       "      <td>-0.052390<\/td>\n",
       "      <td>2.752242<\/td>\n",
       "    <\/tr>\n",
       "    <tr>\n",
       "      <th>2024-05-30<\/th>\n",
       "      <td>1.289513<\/td>\n",
       "      <td>1.046890<\/td>\n",
       "      <td>-0.277379<\/td>\n",
       "      <td>-0.640012<\/td>\n",
       "    <\/tr>\n",
       "    <tr>\n",
       "      <th>2024-05-31<\/th>\n",
       "      <td>-0.316610<\/td>\n",
       "      <td>0.079571<\/td>\n",
       "      <td>-0.492059<\/td>\n",
       "      <td>1.177826<\/td>\n",
       "    <\/tr>\n",
       "    <tr>\n",
       "      <th>2024-06-01<\/th>\n",
       "      <td>-0.109711<\/td>\n",
       "      <td>-0.181753<\/td>\n",
       "      <td>-0.114471<\/td>\n",
       "      <td>-0.573998<\/td>\n",
       "    <\/tr>\n",
       "    <tr>\n",
       "      <th>2024-06-02<\/th>\n",
       "      <td>0.369371<\/td>\n",
       "      <td>-0.197585<\/td>\n",
       "      <td>0.784223<\/td>\n",
       "      <td>0.137487<\/td>\n",
       "    <\/tr>\n",
       "  <\/tbody>\n",
       "<\/table>\n",
       "<\/div>"
      ]
     },
     "metadata":{},
     "output_type":"display_data"
    }
   ],
   "metadata":{
    "datalore":{
     "node_id":"6243lajYEo8OrfP82keYKn",
     "type":"CODE",
     "hide_input_from_viewers":true,
     "hide_output_from_viewers":true
    }
   }
  },
  {
   "cell_type":"code",
   "source":[
    "fr.sort_values(by=\"D\",ascending=False)"
   ],
   "execution_count":45,
   "outputs":[
    {
     "data":{
      "text\/html":[
       "<div>\n",
       "<style scoped>\n",
       "    .dataframe tbody tr th:only-of-type {\n",
       "        vertical-align: middle;\n",
       "    }\n",
       "\n",
       "    .dataframe tbody tr th {\n",
       "        vertical-align: top;\n",
       "    }\n",
       "\n",
       "    .dataframe thead th {\n",
       "        text-align: right;\n",
       "    }\n",
       "<\/style>\n",
       "<table border=\"1\" class=\"dataframe\">\n",
       "  <thead>\n",
       "    <tr style=\"text-align: right;\">\n",
       "      <th><\/th>\n",
       "      <th>A<\/th>\n",
       "      <th>B<\/th>\n",
       "      <th>C<\/th>\n",
       "      <th>D<\/th>\n",
       "    <\/tr>\n",
       "  <\/thead>\n",
       "  <tbody>\n",
       "    <tr>\n",
       "      <th>2024-05-30<\/th>\n",
       "      <td>-0.640012<\/td>\n",
       "      <td>-0.277379<\/td>\n",
       "      <td>1.046890<\/td>\n",
       "      <td>1.289513<\/td>\n",
       "    <\/tr>\n",
       "    <tr>\n",
       "      <th>2024-06-02<\/th>\n",
       "      <td>0.137487<\/td>\n",
       "      <td>0.784223<\/td>\n",
       "      <td>-0.197585<\/td>\n",
       "      <td>0.369371<\/td>\n",
       "    <\/tr>\n",
       "    <tr>\n",
       "      <th>2024-05-28<\/th>\n",
       "      <td>0.141507<\/td>\n",
       "      <td>-0.635809<\/td>\n",
       "      <td>-2.074460<\/td>\n",
       "      <td>0.292690<\/td>\n",
       "    <\/tr>\n",
       "    <tr>\n",
       "      <th>2024-06-01<\/th>\n",
       "      <td>-0.573998<\/td>\n",
       "      <td>-0.114471<\/td>\n",
       "      <td>-0.181753<\/td>\n",
       "      <td>-0.109711<\/td>\n",
       "    <\/tr>\n",
       "    <tr>\n",
       "      <th>2024-05-31<\/th>\n",
       "      <td>1.177826<\/td>\n",
       "      <td>-0.492059<\/td>\n",
       "      <td>0.079571<\/td>\n",
       "      <td>-0.316610<\/td>\n",
       "    <\/tr>\n",
       "    <tr>\n",
       "      <th>2024-05-29<\/th>\n",
       "      <td>2.752242<\/td>\n",
       "      <td>-0.052390<\/td>\n",
       "      <td>-0.466497<\/td>\n",
       "      <td>-1.141902<\/td>\n",
       "    <\/tr>\n",
       "  <\/tbody>\n",
       "<\/table>\n",
       "<\/div>"
      ]
     },
     "metadata":{},
     "output_type":"display_data"
    }
   ],
   "metadata":{
    "datalore":{
     "node_id":"PdMPGoNQTbf9c0EHSvwoNp",
     "type":"CODE",
     "hide_input_from_viewers":true,
     "hide_output_from_viewers":true
    }
   }
  }
 ],
 "metadata":{
  "kernelspec":{
   "display_name":"Python",
   "language":"python",
   "name":"python"
  },
  "datalore":{
   "computation_mode":"JUPYTER",
   "package_manager":"pip",
   "base_environment":"default",
   "packages":[],
   "report_row_ids":[],
   "version":3
  }
 },
 "nbformat":4,
 "nbformat_minor":4
}