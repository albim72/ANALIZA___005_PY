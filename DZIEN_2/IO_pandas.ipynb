{
 "cells":[
  {
   "cell_type":"code",
   "source":[
    "import numpy as np\n",
    "import pandas as pd\n",
    "np.random.seed(12345)\n",
    "import matplotlib.pyplot as plt\n",
    "np.set_printoptions(precision=3,suppress=True)"
   ],
   "execution_count":1,
   "outputs":[],
   "metadata":{
    "datalore":{
     "node_id":"FwVLxiwKp4lYyQSvvrvzgS",
     "type":"CODE",
     "hide_input_from_viewers":true,
     "hide_output_from_viewers":true
    }
   }
  },
  {
   "cell_type":"code",
   "source":[
    "!cat dane\/ex1.csv"
   ],
   "execution_count":3,
   "outputs":[
    {
     "name":"stdout",
     "text":[
      "a,b,c,d,message\r\n",
      "1,2,3,4,hello\r\n",
      "5,6,7,8,world\r\n",
      "9,10,11,12,foo"
     ],
     "output_type":"stream"
    }
   ],
   "metadata":{
    "datalore":{
     "node_id":"MngwXFoKccBZ5jb2IfOkpg",
     "type":"CODE",
     "hide_input_from_viewers":true,
     "hide_output_from_viewers":true
    }
   }
  },
  {
   "cell_type":"code",
   "source":[
    "df = pd.read_csv('dane\/ex1.csv',sep=',')\n",
    "df"
   ],
   "execution_count":5,
   "outputs":[
    {
     "data":{
      "text\/html":[
       "<div>\n",
       "<style scoped>\n",
       "    .dataframe tbody tr th:only-of-type {\n",
       "        vertical-align: middle;\n",
       "    }\n",
       "\n",
       "    .dataframe tbody tr th {\n",
       "        vertical-align: top;\n",
       "    }\n",
       "\n",
       "    .dataframe thead th {\n",
       "        text-align: right;\n",
       "    }\n",
       "<\/style>\n",
       "<table border=\"1\" class=\"dataframe\">\n",
       "  <thead>\n",
       "    <tr style=\"text-align: right;\">\n",
       "      <th><\/th>\n",
       "      <th>a<\/th>\n",
       "      <th>b<\/th>\n",
       "      <th>c<\/th>\n",
       "      <th>d<\/th>\n",
       "      <th>message<\/th>\n",
       "    <\/tr>\n",
       "  <\/thead>\n",
       "  <tbody>\n",
       "    <tr>\n",
       "      <th>0<\/th>\n",
       "      <td>1<\/td>\n",
       "      <td>2<\/td>\n",
       "      <td>3<\/td>\n",
       "      <td>4<\/td>\n",
       "      <td>hello<\/td>\n",
       "    <\/tr>\n",
       "    <tr>\n",
       "      <th>1<\/th>\n",
       "      <td>5<\/td>\n",
       "      <td>6<\/td>\n",
       "      <td>7<\/td>\n",
       "      <td>8<\/td>\n",
       "      <td>world<\/td>\n",
       "    <\/tr>\n",
       "    <tr>\n",
       "      <th>2<\/th>\n",
       "      <td>9<\/td>\n",
       "      <td>10<\/td>\n",
       "      <td>11<\/td>\n",
       "      <td>12<\/td>\n",
       "      <td>foo<\/td>\n",
       "    <\/tr>\n",
       "  <\/tbody>\n",
       "<\/table>\n",
       "<\/div>"
      ]
     },
     "metadata":{},
     "output_type":"display_data"
    }
   ],
   "metadata":{
    "datalore":{
     "node_id":"L7tvb4IfZkaEN70XhzMGXA",
     "type":"CODE",
     "hide_input_from_viewers":true,
     "hide_output_from_viewers":true
    }
   }
  },
  {
   "cell_type":"code",
   "source":[
    "!cat dane\/ex2.csv"
   ],
   "execution_count":6,
   "outputs":[
    {
     "name":"stdout",
     "text":[
      "1,2,3,4,hello\r\n",
      "5,6,7,8,world\r\n",
      "9,10,11,12,foo"
     ],
     "output_type":"stream"
    }
   ],
   "metadata":{
    "datalore":{
     "node_id":"I7WHx18kpKP3evWI1MId5D",
     "type":"CODE",
     "hide_input_from_viewers":true,
     "hide_output_from_viewers":true
    }
   }
  },
  {
   "cell_type":"code",
   "source":[
    "pd.read_csv('dane\/ex2.csv',header=None,names=['pole_a','pole_b','pole_c','pole_d','wiadomość'])"
   ],
   "execution_count":9,
   "outputs":[
    {
     "data":{
      "text\/html":[
       "<div>\n",
       "<style scoped>\n",
       "    .dataframe tbody tr th:only-of-type {\n",
       "        vertical-align: middle;\n",
       "    }\n",
       "\n",
       "    .dataframe tbody tr th {\n",
       "        vertical-align: top;\n",
       "    }\n",
       "\n",
       "    .dataframe thead th {\n",
       "        text-align: right;\n",
       "    }\n",
       "<\/style>\n",
       "<table border=\"1\" class=\"dataframe\">\n",
       "  <thead>\n",
       "    <tr style=\"text-align: right;\">\n",
       "      <th><\/th>\n",
       "      <th>pole_a<\/th>\n",
       "      <th>pole_b<\/th>\n",
       "      <th>pole_c<\/th>\n",
       "      <th>pole_d<\/th>\n",
       "      <th>wiadomość<\/th>\n",
       "    <\/tr>\n",
       "  <\/thead>\n",
       "  <tbody>\n",
       "    <tr>\n",
       "      <th>0<\/th>\n",
       "      <td>1<\/td>\n",
       "      <td>2<\/td>\n",
       "      <td>3<\/td>\n",
       "      <td>4<\/td>\n",
       "      <td>hello<\/td>\n",
       "    <\/tr>\n",
       "    <tr>\n",
       "      <th>1<\/th>\n",
       "      <td>5<\/td>\n",
       "      <td>6<\/td>\n",
       "      <td>7<\/td>\n",
       "      <td>8<\/td>\n",
       "      <td>world<\/td>\n",
       "    <\/tr>\n",
       "    <tr>\n",
       "      <th>2<\/th>\n",
       "      <td>9<\/td>\n",
       "      <td>10<\/td>\n",
       "      <td>11<\/td>\n",
       "      <td>12<\/td>\n",
       "      <td>foo<\/td>\n",
       "    <\/tr>\n",
       "  <\/tbody>\n",
       "<\/table>\n",
       "<\/div>"
      ]
     },
     "metadata":{},
     "output_type":"display_data"
    }
   ],
   "metadata":{
    "datalore":{
     "node_id":"Uw7uVsc8s74IhONRh2ERot",
     "type":"CODE",
     "hide_input_from_viewers":true,
     "hide_output_from_viewers":true
    }
   }
  },
  {
   "cell_type":"code",
   "source":[
    "names = ['a','b','c','d','message']\n",
    "pd.read_csv('dane\/ex2.csv',names=names,index_col='message')"
   ],
   "execution_count":10,
   "outputs":[
    {
     "data":{
      "text\/html":[
       "<div>\n",
       "<style scoped>\n",
       "    .dataframe tbody tr th:only-of-type {\n",
       "        vertical-align: middle;\n",
       "    }\n",
       "\n",
       "    .dataframe tbody tr th {\n",
       "        vertical-align: top;\n",
       "    }\n",
       "\n",
       "    .dataframe thead th {\n",
       "        text-align: right;\n",
       "    }\n",
       "<\/style>\n",
       "<table border=\"1\" class=\"dataframe\">\n",
       "  <thead>\n",
       "    <tr style=\"text-align: right;\">\n",
       "      <th><\/th>\n",
       "      <th>a<\/th>\n",
       "      <th>b<\/th>\n",
       "      <th>c<\/th>\n",
       "      <th>d<\/th>\n",
       "    <\/tr>\n",
       "    <tr>\n",
       "      <th>message<\/th>\n",
       "      <th><\/th>\n",
       "      <th><\/th>\n",
       "      <th><\/th>\n",
       "      <th><\/th>\n",
       "    <\/tr>\n",
       "  <\/thead>\n",
       "  <tbody>\n",
       "    <tr>\n",
       "      <th>hello<\/th>\n",
       "      <td>1<\/td>\n",
       "      <td>2<\/td>\n",
       "      <td>3<\/td>\n",
       "      <td>4<\/td>\n",
       "    <\/tr>\n",
       "    <tr>\n",
       "      <th>world<\/th>\n",
       "      <td>5<\/td>\n",
       "      <td>6<\/td>\n",
       "      <td>7<\/td>\n",
       "      <td>8<\/td>\n",
       "    <\/tr>\n",
       "    <tr>\n",
       "      <th>foo<\/th>\n",
       "      <td>9<\/td>\n",
       "      <td>10<\/td>\n",
       "      <td>11<\/td>\n",
       "      <td>12<\/td>\n",
       "    <\/tr>\n",
       "  <\/tbody>\n",
       "<\/table>\n",
       "<\/div>"
      ]
     },
     "metadata":{},
     "output_type":"display_data"
    }
   ],
   "metadata":{
    "datalore":{
     "node_id":"JVheS0qtDqN7HZxACJb9nZ",
     "type":"CODE",
     "hide_input_from_viewers":true,
     "hide_output_from_viewers":true
    }
   }
  },
  {
   "cell_type":"code",
   "source":[
    "!cat dane\/csv_mindex.csv"
   ],
   "execution_count":11,
   "outputs":[
    {
     "name":"stdout",
     "text":[
      "key1,key2,value1,value2\r\n",
      "one,a,1,2\r\n",
      "one,b,3,4\r\n",
      "one,c,5,6\r\n",
      "one,d,7,8\r\n",
      "two,a,9,10\r\n",
      "two,b,11,12\r\n",
      "two,c,13,14\r\n",
      "two,d,15,16\r\n"
     ],
     "output_type":"stream"
    }
   ],
   "metadata":{
    "datalore":{
     "node_id":"nhjuOdsI412fYBX3fj1Lfv",
     "type":"CODE",
     "hide_input_from_viewers":true,
     "hide_output_from_viewers":true
    }
   }
  },
  {
   "cell_type":"code",
   "source":[
    "parsed = pd.read_csv('dane\/csv_mindex.csv',index_col=['key1','key2'])\n",
    "parsed"
   ],
   "execution_count":14,
   "outputs":[
    {
     "data":{
      "text\/html":[
       "<div>\n",
       "<style scoped>\n",
       "    .dataframe tbody tr th:only-of-type {\n",
       "        vertical-align: middle;\n",
       "    }\n",
       "\n",
       "    .dataframe tbody tr th {\n",
       "        vertical-align: top;\n",
       "    }\n",
       "\n",
       "    .dataframe thead th {\n",
       "        text-align: right;\n",
       "    }\n",
       "<\/style>\n",
       "<table border=\"1\" class=\"dataframe\">\n",
       "  <thead>\n",
       "    <tr style=\"text-align: right;\">\n",
       "      <th><\/th>\n",
       "      <th><\/th>\n",
       "      <th>value1<\/th>\n",
       "      <th>value2<\/th>\n",
       "    <\/tr>\n",
       "    <tr>\n",
       "      <th>key1<\/th>\n",
       "      <th>key2<\/th>\n",
       "      <th><\/th>\n",
       "      <th><\/th>\n",
       "    <\/tr>\n",
       "  <\/thead>\n",
       "  <tbody>\n",
       "    <tr>\n",
       "      <th rowspan=\"4\" valign=\"top\">one<\/th>\n",
       "      <th>a<\/th>\n",
       "      <td>1<\/td>\n",
       "      <td>2<\/td>\n",
       "    <\/tr>\n",
       "    <tr>\n",
       "      <th>b<\/th>\n",
       "      <td>3<\/td>\n",
       "      <td>4<\/td>\n",
       "    <\/tr>\n",
       "    <tr>\n",
       "      <th>c<\/th>\n",
       "      <td>5<\/td>\n",
       "      <td>6<\/td>\n",
       "    <\/tr>\n",
       "    <tr>\n",
       "      <th>d<\/th>\n",
       "      <td>7<\/td>\n",
       "      <td>8<\/td>\n",
       "    <\/tr>\n",
       "    <tr>\n",
       "      <th rowspan=\"4\" valign=\"top\">two<\/th>\n",
       "      <th>a<\/th>\n",
       "      <td>9<\/td>\n",
       "      <td>10<\/td>\n",
       "    <\/tr>\n",
       "    <tr>\n",
       "      <th>b<\/th>\n",
       "      <td>11<\/td>\n",
       "      <td>12<\/td>\n",
       "    <\/tr>\n",
       "    <tr>\n",
       "      <th>c<\/th>\n",
       "      <td>13<\/td>\n",
       "      <td>14<\/td>\n",
       "    <\/tr>\n",
       "    <tr>\n",
       "      <th>d<\/th>\n",
       "      <td>15<\/td>\n",
       "      <td>16<\/td>\n",
       "    <\/tr>\n",
       "  <\/tbody>\n",
       "<\/table>\n",
       "<\/div>"
      ]
     },
     "metadata":{},
     "output_type":"display_data"
    }
   ],
   "metadata":{
    "datalore":{
     "node_id":"Y9EnXLJlXkI1AhlYHvMVov",
     "type":"CODE",
     "hide_input_from_viewers":true,
     "hide_output_from_viewers":true
    }
   }
  },
  {
   "cell_type":"code",
   "source":[
    "!cat dane\/ex4.csv"
   ],
   "execution_count":15,
   "outputs":[
    {
     "name":"stdout",
     "text":[
      "# Cześć!\r\n",
      "a,b,c,d,message\r\n",
      "# Chciałem tylko trochę utrudnić Twoją pracę.\r\n",
      "# Kto w ogóle wczytuje pliki CSV za pomocą komputera?\r\n",
      "1,2,3,4,hello\r\n",
      "5,6,7,8,world\r\n",
      "9,10,11,12,foo"
     ],
     "output_type":"stream"
    }
   ],
   "metadata":{
    "datalore":{
     "node_id":"uO30nr1MDv89ILSJNGCJ6e",
     "type":"CODE",
     "hide_input_from_viewers":true,
     "hide_output_from_viewers":true
    }
   }
  },
  {
   "cell_type":"code",
   "source":[
    "pd.read_csv('dane\/ex4.csv',skiprows=[0,2,3])"
   ],
   "execution_count":16,
   "outputs":[
    {
     "data":{
      "text\/html":[
       "<div>\n",
       "<style scoped>\n",
       "    .dataframe tbody tr th:only-of-type {\n",
       "        vertical-align: middle;\n",
       "    }\n",
       "\n",
       "    .dataframe tbody tr th {\n",
       "        vertical-align: top;\n",
       "    }\n",
       "\n",
       "    .dataframe thead th {\n",
       "        text-align: right;\n",
       "    }\n",
       "<\/style>\n",
       "<table border=\"1\" class=\"dataframe\">\n",
       "  <thead>\n",
       "    <tr style=\"text-align: right;\">\n",
       "      <th><\/th>\n",
       "      <th>a<\/th>\n",
       "      <th>b<\/th>\n",
       "      <th>c<\/th>\n",
       "      <th>d<\/th>\n",
       "      <th>message<\/th>\n",
       "    <\/tr>\n",
       "  <\/thead>\n",
       "  <tbody>\n",
       "    <tr>\n",
       "      <th>0<\/th>\n",
       "      <td>1<\/td>\n",
       "      <td>2<\/td>\n",
       "      <td>3<\/td>\n",
       "      <td>4<\/td>\n",
       "      <td>hello<\/td>\n",
       "    <\/tr>\n",
       "    <tr>\n",
       "      <th>1<\/th>\n",
       "      <td>5<\/td>\n",
       "      <td>6<\/td>\n",
       "      <td>7<\/td>\n",
       "      <td>8<\/td>\n",
       "      <td>world<\/td>\n",
       "    <\/tr>\n",
       "    <tr>\n",
       "      <th>2<\/th>\n",
       "      <td>9<\/td>\n",
       "      <td>10<\/td>\n",
       "      <td>11<\/td>\n",
       "      <td>12<\/td>\n",
       "      <td>foo<\/td>\n",
       "    <\/tr>\n",
       "  <\/tbody>\n",
       "<\/table>\n",
       "<\/div>"
      ]
     },
     "metadata":{},
     "output_type":"display_data"
    }
   ],
   "metadata":{
    "datalore":{
     "node_id":"aWJyc1YkcHFOqXnKGwjn9Q",
     "type":"CODE",
     "hide_input_from_viewers":true,
     "hide_output_from_viewers":true
    }
   }
  },
  {
   "cell_type":"code",
   "source":[
    "result = pd.read_csv('dane\/ex5.csv',na_values=['NULL',])\n",
    "result"
   ],
   "execution_count":18,
   "outputs":[
    {
     "data":{
      "text\/html":[
       "<div>\n",
       "<style scoped>\n",
       "    .dataframe tbody tr th:only-of-type {\n",
       "        vertical-align: middle;\n",
       "    }\n",
       "\n",
       "    .dataframe tbody tr th {\n",
       "        vertical-align: top;\n",
       "    }\n",
       "\n",
       "    .dataframe thead th {\n",
       "        text-align: right;\n",
       "    }\n",
       "<\/style>\n",
       "<table border=\"1\" class=\"dataframe\">\n",
       "  <thead>\n",
       "    <tr style=\"text-align: right;\">\n",
       "      <th><\/th>\n",
       "      <th>something<\/th>\n",
       "      <th>a<\/th>\n",
       "      <th>b<\/th>\n",
       "      <th>c<\/th>\n",
       "      <th>d<\/th>\n",
       "      <th>message<\/th>\n",
       "    <\/tr>\n",
       "  <\/thead>\n",
       "  <tbody>\n",
       "    <tr>\n",
       "      <th>0<\/th>\n",
       "      <td>one<\/td>\n",
       "      <td>1<\/td>\n",
       "      <td>2<\/td>\n",
       "      <td>3.0<\/td>\n",
       "      <td>4<\/td>\n",
       "      <td>NaN<\/td>\n",
       "    <\/tr>\n",
       "    <tr>\n",
       "      <th>1<\/th>\n",
       "      <td>two<\/td>\n",
       "      <td>5<\/td>\n",
       "      <td>6<\/td>\n",
       "      <td>NaN<\/td>\n",
       "      <td>8<\/td>\n",
       "      <td>world<\/td>\n",
       "    <\/tr>\n",
       "    <tr>\n",
       "      <th>2<\/th>\n",
       "      <td>three<\/td>\n",
       "      <td>9<\/td>\n",
       "      <td>10<\/td>\n",
       "      <td>11.0<\/td>\n",
       "      <td>12<\/td>\n",
       "      <td>foo<\/td>\n",
       "    <\/tr>\n",
       "  <\/tbody>\n",
       "<\/table>\n",
       "<\/div>"
      ]
     },
     "metadata":{},
     "output_type":"display_data"
    }
   ],
   "metadata":{
    "datalore":{
     "node_id":"ykMMBYB5jcezjpo8Bwj3Cs",
     "type":"CODE",
     "hide_input_from_viewers":true,
     "hide_output_from_viewers":true
    }
   }
  },
  {
   "cell_type":"code",
   "source":[
    "sentinels = {'message':['foo','NA'],'something':['two']}\n",
    "out = pd.read_csv('dane\/ex5.csv',na_values=sentinels)\n",
    "out"
   ],
   "execution_count":22,
   "outputs":[
    {
     "data":{
      "text\/html":[
       "<div>\n",
       "<style scoped>\n",
       "    .dataframe tbody tr th:only-of-type {\n",
       "        vertical-align: middle;\n",
       "    }\n",
       "\n",
       "    .dataframe tbody tr th {\n",
       "        vertical-align: top;\n",
       "    }\n",
       "\n",
       "    .dataframe thead th {\n",
       "        text-align: right;\n",
       "    }\n",
       "<\/style>\n",
       "<table border=\"1\" class=\"dataframe\">\n",
       "  <thead>\n",
       "    <tr style=\"text-align: right;\">\n",
       "      <th><\/th>\n",
       "      <th>something<\/th>\n",
       "      <th>a<\/th>\n",
       "      <th>b<\/th>\n",
       "      <th>c<\/th>\n",
       "      <th>d<\/th>\n",
       "      <th>message<\/th>\n",
       "    <\/tr>\n",
       "  <\/thead>\n",
       "  <tbody>\n",
       "    <tr>\n",
       "      <th>0<\/th>\n",
       "      <td>one<\/td>\n",
       "      <td>1<\/td>\n",
       "      <td>2<\/td>\n",
       "      <td>3.0<\/td>\n",
       "      <td>4<\/td>\n",
       "      <td>NaN<\/td>\n",
       "    <\/tr>\n",
       "    <tr>\n",
       "      <th>1<\/th>\n",
       "      <td>NaN<\/td>\n",
       "      <td>5<\/td>\n",
       "      <td>6<\/td>\n",
       "      <td>NaN<\/td>\n",
       "      <td>8<\/td>\n",
       "      <td>world<\/td>\n",
       "    <\/tr>\n",
       "    <tr>\n",
       "      <th>2<\/th>\n",
       "      <td>three<\/td>\n",
       "      <td>9<\/td>\n",
       "      <td>10<\/td>\n",
       "      <td>11.0<\/td>\n",
       "      <td>12<\/td>\n",
       "      <td>NaN<\/td>\n",
       "    <\/tr>\n",
       "  <\/tbody>\n",
       "<\/table>\n",
       "<\/div>"
      ]
     },
     "metadata":{},
     "output_type":"display_data"
    }
   ],
   "metadata":{
    "datalore":{
     "node_id":"amVBexHYLJnadr2tC9kJgg",
     "type":"CODE",
     "hide_input_from_viewers":true,
     "hide_output_from_viewers":true
    }
   }
  },
  {
   "cell_type":"code",
   "source":[
    "pd.options.display.max_rows=10\n",
    "result = pd.read_csv('dane\/ex6.csv')\n",
    "result"
   ],
   "execution_count":20,
   "outputs":[
    {
     "data":{
      "text\/html":[
       "<div>\n",
       "<style scoped>\n",
       "    .dataframe tbody tr th:only-of-type {\n",
       "        vertical-align: middle;\n",
       "    }\n",
       "\n",
       "    .dataframe tbody tr th {\n",
       "        vertical-align: top;\n",
       "    }\n",
       "\n",
       "    .dataframe thead th {\n",
       "        text-align: right;\n",
       "    }\n",
       "<\/style>\n",
       "<table border=\"1\" class=\"dataframe\">\n",
       "  <thead>\n",
       "    <tr style=\"text-align: right;\">\n",
       "      <th><\/th>\n",
       "      <th>one<\/th>\n",
       "      <th>two<\/th>\n",
       "      <th>three<\/th>\n",
       "      <th>four<\/th>\n",
       "      <th>key<\/th>\n",
       "    <\/tr>\n",
       "  <\/thead>\n",
       "  <tbody>\n",
       "    <tr>\n",
       "      <th>0<\/th>\n",
       "      <td>0.467976<\/td>\n",
       "      <td>-0.038649<\/td>\n",
       "      <td>-0.295344<\/td>\n",
       "      <td>-1.824726<\/td>\n",
       "      <td>L<\/td>\n",
       "    <\/tr>\n",
       "    <tr>\n",
       "      <th>1<\/th>\n",
       "      <td>-0.358893<\/td>\n",
       "      <td>1.404453<\/td>\n",
       "      <td>0.704965<\/td>\n",
       "      <td>-0.200638<\/td>\n",
       "      <td>B<\/td>\n",
       "    <\/tr>\n",
       "    <tr>\n",
       "      <th>2<\/th>\n",
       "      <td>-0.501840<\/td>\n",
       "      <td>0.659254<\/td>\n",
       "      <td>-0.421691<\/td>\n",
       "      <td>-0.057688<\/td>\n",
       "      <td>G<\/td>\n",
       "    <\/tr>\n",
       "    <tr>\n",
       "      <th>3<\/th>\n",
       "      <td>0.204886<\/td>\n",
       "      <td>1.074134<\/td>\n",
       "      <td>1.388361<\/td>\n",
       "      <td>-0.982404<\/td>\n",
       "      <td>R<\/td>\n",
       "    <\/tr>\n",
       "    <tr>\n",
       "      <th>4<\/th>\n",
       "      <td>0.354628<\/td>\n",
       "      <td>-0.133116<\/td>\n",
       "      <td>0.283763<\/td>\n",
       "      <td>-0.837063<\/td>\n",
       "      <td>Q<\/td>\n",
       "    <\/tr>\n",
       "    <tr>\n",
       "      <th>...<\/th>\n",
       "      <td>...<\/td>\n",
       "      <td>...<\/td>\n",
       "      <td>...<\/td>\n",
       "      <td>...<\/td>\n",
       "      <td>...<\/td>\n",
       "    <\/tr>\n",
       "    <tr>\n",
       "      <th>9995<\/th>\n",
       "      <td>2.311896<\/td>\n",
       "      <td>-0.417070<\/td>\n",
       "      <td>-1.409599<\/td>\n",
       "      <td>-0.515821<\/td>\n",
       "      <td>L<\/td>\n",
       "    <\/tr>\n",
       "    <tr>\n",
       "      <th>9996<\/th>\n",
       "      <td>-0.479893<\/td>\n",
       "      <td>-0.650419<\/td>\n",
       "      <td>0.745152<\/td>\n",
       "      <td>-0.646038<\/td>\n",
       "      <td>E<\/td>\n",
       "    <\/tr>\n",
       "    <tr>\n",
       "      <th>9997<\/th>\n",
       "      <td>0.523331<\/td>\n",
       "      <td>0.787112<\/td>\n",
       "      <td>0.486066<\/td>\n",
       "      <td>1.093156<\/td>\n",
       "      <td>K<\/td>\n",
       "    <\/tr>\n",
       "    <tr>\n",
       "      <th>9998<\/th>\n",
       "      <td>-0.362559<\/td>\n",
       "      <td>0.598894<\/td>\n",
       "      <td>-1.843201<\/td>\n",
       "      <td>0.887292<\/td>\n",
       "      <td>G<\/td>\n",
       "    <\/tr>\n",
       "    <tr>\n",
       "      <th>9999<\/th>\n",
       "      <td>-0.096376<\/td>\n",
       "      <td>-1.012999<\/td>\n",
       "      <td>-0.657431<\/td>\n",
       "      <td>-0.573315<\/td>\n",
       "      <td>0<\/td>\n",
       "    <\/tr>\n",
       "  <\/tbody>\n",
       "<\/table>\n",
       "<p>10000 rows × 5 columns<\/p>\n",
       "<\/div>"
      ]
     },
     "metadata":{},
     "output_type":"display_data"
    }
   ],
   "metadata":{
    "datalore":{
     "node_id":"zTvfB56trf6EUBnn5989Ly",
     "type":"CODE",
     "hide_input_from_viewers":true,
     "hide_output_from_viewers":true
    }
   }
  },
  {
   "cell_type":"code",
   "source":[
    "result = pd.read_csv('dane\/ex6.csv',nrows=5)\n",
    "result"
   ],
   "execution_count":21,
   "outputs":[
    {
     "data":{
      "text\/html":[
       "<div>\n",
       "<style scoped>\n",
       "    .dataframe tbody tr th:only-of-type {\n",
       "        vertical-align: middle;\n",
       "    }\n",
       "\n",
       "    .dataframe tbody tr th {\n",
       "        vertical-align: top;\n",
       "    }\n",
       "\n",
       "    .dataframe thead th {\n",
       "        text-align: right;\n",
       "    }\n",
       "<\/style>\n",
       "<table border=\"1\" class=\"dataframe\">\n",
       "  <thead>\n",
       "    <tr style=\"text-align: right;\">\n",
       "      <th><\/th>\n",
       "      <th>one<\/th>\n",
       "      <th>two<\/th>\n",
       "      <th>three<\/th>\n",
       "      <th>four<\/th>\n",
       "      <th>key<\/th>\n",
       "    <\/tr>\n",
       "  <\/thead>\n",
       "  <tbody>\n",
       "    <tr>\n",
       "      <th>0<\/th>\n",
       "      <td>0.467976<\/td>\n",
       "      <td>-0.038649<\/td>\n",
       "      <td>-0.295344<\/td>\n",
       "      <td>-1.824726<\/td>\n",
       "      <td>L<\/td>\n",
       "    <\/tr>\n",
       "    <tr>\n",
       "      <th>1<\/th>\n",
       "      <td>-0.358893<\/td>\n",
       "      <td>1.404453<\/td>\n",
       "      <td>0.704965<\/td>\n",
       "      <td>-0.200638<\/td>\n",
       "      <td>B<\/td>\n",
       "    <\/tr>\n",
       "    <tr>\n",
       "      <th>2<\/th>\n",
       "      <td>-0.501840<\/td>\n",
       "      <td>0.659254<\/td>\n",
       "      <td>-0.421691<\/td>\n",
       "      <td>-0.057688<\/td>\n",
       "      <td>G<\/td>\n",
       "    <\/tr>\n",
       "    <tr>\n",
       "      <th>3<\/th>\n",
       "      <td>0.204886<\/td>\n",
       "      <td>1.074134<\/td>\n",
       "      <td>1.388361<\/td>\n",
       "      <td>-0.982404<\/td>\n",
       "      <td>R<\/td>\n",
       "    <\/tr>\n",
       "    <tr>\n",
       "      <th>4<\/th>\n",
       "      <td>0.354628<\/td>\n",
       "      <td>-0.133116<\/td>\n",
       "      <td>0.283763<\/td>\n",
       "      <td>-0.837063<\/td>\n",
       "      <td>Q<\/td>\n",
       "    <\/tr>\n",
       "  <\/tbody>\n",
       "<\/table>\n",
       "<\/div>"
      ]
     },
     "metadata":{},
     "output_type":"display_data"
    }
   ],
   "metadata":{
    "datalore":{
     "node_id":"XyfonPTRFRrP1a1mtSsyKn",
     "type":"CODE",
     "hide_input_from_viewers":true,
     "hide_output_from_viewers":true
    }
   }
  },
  {
   "cell_type":"code",
   "source":[
    "out.to_csv('dane\/output6.csv')"
   ],
   "execution_count":25,
   "outputs":[],
   "metadata":{
    "datalore":{
     "node_id":"cmNP3zO8nTkav2KmoVO5Qp",
     "type":"CODE",
     "hide_input_from_viewers":true,
     "hide_output_from_viewers":true
    }
   }
  },
  {
   "cell_type":"code",
   "source":[
    "out.to_html('dane\/output6.html')"
   ],
   "execution_count":26,
   "outputs":[],
   "metadata":{
    "datalore":{
     "node_id":"UqeAZnDmlE0KCz04DONbkK",
     "type":"CODE",
     "hide_input_from_viewers":true,
     "hide_output_from_viewers":true
    }
   }
  },
  {
   "cell_type":"code",
   "source":[
    "out.to_json('dane\/output6.json')"
   ],
   "execution_count":27,
   "outputs":[],
   "metadata":{
    "datalore":{
     "node_id":"luXHLUCPTa0WNP60rNfuyo",
     "type":"CODE",
     "hide_input_from_viewers":true,
     "hide_output_from_viewers":true
    }
   }
  },
  {
   "cell_type":"code",
   "source":[
    "out.to_xml('dane\/output6.xml')"
   ],
   "execution_count":28,
   "outputs":[],
   "metadata":{
    "datalore":{
     "node_id":"WcndLTqoM4v2YJFY6eHJtK",
     "type":"CODE",
     "hide_input_from_viewers":true,
     "hide_output_from_viewers":true
    }
   }
  }
 ],
 "metadata":{
  "kernelspec":{
   "display_name":"Python",
   "language":"python",
   "name":"python"
  },
  "datalore":{
   "computation_mode":"JUPYTER",
   "package_manager":"pip",
   "base_environment":"default",
   "packages":[],
   "report_row_ids":[],
   "version":3
  }
 },
 "nbformat":4,
 "nbformat_minor":4
}