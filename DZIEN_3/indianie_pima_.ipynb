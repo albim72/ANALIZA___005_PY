{
 "cells":[
  {
   "cell_type":"code",
   "source":[
    "import pandas as pd\n",
    "from sklearn.tree import DecisionTreeClassifier\n",
    "from sklearn.model_selection import train_test_split\n",
    "from sklearn import metrics"
   ],
   "execution_count":1,
   "outputs":[],
   "metadata":{
    "datalore":{
     "node_id":"jMtw1K3CP9mhIxtfr2Z1eH",
     "type":"CODE",
     "hide_input_from_viewers":true,
     "hide_output_from_viewers":true
    }
   }
  },
  {
   "cell_type":"code",
   "source":[
    "col_names = ['pregnant','glucose','bp','skin','insulin','bmi','pedigree','age','label']\n",
    "pima = pd.read_csv('diabetes.csv',header=None,names=col_names)\n",
    "pima.head(7)"
   ],
   "execution_count":2,
   "outputs":[
    {
     "data":{
      "text\/html":[
       "<div>\n",
       "<style scoped>\n",
       "    .dataframe tbody tr th:only-of-type {\n",
       "        vertical-align: middle;\n",
       "    }\n",
       "\n",
       "    .dataframe tbody tr th {\n",
       "        vertical-align: top;\n",
       "    }\n",
       "\n",
       "    .dataframe thead th {\n",
       "        text-align: right;\n",
       "    }\n",
       "<\/style>\n",
       "<table border=\"1\" class=\"dataframe\">\n",
       "  <thead>\n",
       "    <tr style=\"text-align: right;\">\n",
       "      <th><\/th>\n",
       "      <th>pregnant<\/th>\n",
       "      <th>glucose<\/th>\n",
       "      <th>bp<\/th>\n",
       "      <th>skin<\/th>\n",
       "      <th>insulin<\/th>\n",
       "      <th>bmi<\/th>\n",
       "      <th>pedigree<\/th>\n",
       "      <th>age<\/th>\n",
       "      <th>label<\/th>\n",
       "    <\/tr>\n",
       "  <\/thead>\n",
       "  <tbody>\n",
       "    <tr>\n",
       "      <th>0<\/th>\n",
       "      <td>6<\/td>\n",
       "      <td>148<\/td>\n",
       "      <td>72<\/td>\n",
       "      <td>35<\/td>\n",
       "      <td>0<\/td>\n",
       "      <td>33.6<\/td>\n",
       "      <td>0.627<\/td>\n",
       "      <td>50<\/td>\n",
       "      <td>1<\/td>\n",
       "    <\/tr>\n",
       "    <tr>\n",
       "      <th>1<\/th>\n",
       "      <td>1<\/td>\n",
       "      <td>85<\/td>\n",
       "      <td>66<\/td>\n",
       "      <td>29<\/td>\n",
       "      <td>0<\/td>\n",
       "      <td>26.6<\/td>\n",
       "      <td>0.351<\/td>\n",
       "      <td>31<\/td>\n",
       "      <td>0<\/td>\n",
       "    <\/tr>\n",
       "    <tr>\n",
       "      <th>2<\/th>\n",
       "      <td>8<\/td>\n",
       "      <td>183<\/td>\n",
       "      <td>64<\/td>\n",
       "      <td>0<\/td>\n",
       "      <td>0<\/td>\n",
       "      <td>23.3<\/td>\n",
       "      <td>0.672<\/td>\n",
       "      <td>32<\/td>\n",
       "      <td>1<\/td>\n",
       "    <\/tr>\n",
       "    <tr>\n",
       "      <th>3<\/th>\n",
       "      <td>1<\/td>\n",
       "      <td>89<\/td>\n",
       "      <td>66<\/td>\n",
       "      <td>23<\/td>\n",
       "      <td>94<\/td>\n",
       "      <td>28.1<\/td>\n",
       "      <td>0.167<\/td>\n",
       "      <td>21<\/td>\n",
       "      <td>0<\/td>\n",
       "    <\/tr>\n",
       "    <tr>\n",
       "      <th>4<\/th>\n",
       "      <td>0<\/td>\n",
       "      <td>137<\/td>\n",
       "      <td>40<\/td>\n",
       "      <td>35<\/td>\n",
       "      <td>168<\/td>\n",
       "      <td>43.1<\/td>\n",
       "      <td>2.288<\/td>\n",
       "      <td>33<\/td>\n",
       "      <td>1<\/td>\n",
       "    <\/tr>\n",
       "    <tr>\n",
       "      <th>5<\/th>\n",
       "      <td>5<\/td>\n",
       "      <td>116<\/td>\n",
       "      <td>74<\/td>\n",
       "      <td>0<\/td>\n",
       "      <td>0<\/td>\n",
       "      <td>25.6<\/td>\n",
       "      <td>0.201<\/td>\n",
       "      <td>30<\/td>\n",
       "      <td>0<\/td>\n",
       "    <\/tr>\n",
       "    <tr>\n",
       "      <th>6<\/th>\n",
       "      <td>3<\/td>\n",
       "      <td>78<\/td>\n",
       "      <td>50<\/td>\n",
       "      <td>32<\/td>\n",
       "      <td>88<\/td>\n",
       "      <td>31.0<\/td>\n",
       "      <td>0.248<\/td>\n",
       "      <td>26<\/td>\n",
       "      <td>1<\/td>\n",
       "    <\/tr>\n",
       "  <\/tbody>\n",
       "<\/table>\n",
       "<\/div>"
      ]
     },
     "metadata":{},
     "output_type":"display_data"
    }
   ],
   "metadata":{
    "datalore":{
     "node_id":"gUWSCz92l0WZZshTJCXA6L",
     "type":"CODE",
     "hide_input_from_viewers":true,
     "hide_output_from_viewers":true
    }
   }
  },
  {
   "cell_type":"code",
   "source":[
    "feature_cols = ['pregnant','insulin','bmi','age','glucose','bp','pedigree']\n",
    "X = pima[feature_cols]\n",
    "y = pima.label\n",
    "\n",
    "X_train,X_test,y_train,y_test = train_test_split(X,y,test_size=0.3,random_state=1)"
   ],
   "execution_count":3,
   "outputs":[],
   "metadata":{
    "datalore":{
     "node_id":"b8dCpsZ5TB1o73laIcYZKt",
     "type":"CODE",
     "hide_input_from_viewers":true,
     "hide_output_from_viewers":true
    }
   }
  },
  {
   "cell_type":"code",
   "source":[
    "clf = DecisionTreeClassifier()\n",
    "clf=clf.fit(X_train,y_train)"
   ],
   "execution_count":4,
   "outputs":[],
   "metadata":{
    "datalore":{
     "node_id":"Vyryri3rw0qeVsoCOdIgFJ",
     "type":"CODE",
     "hide_input_from_viewers":true,
     "hide_output_from_viewers":true
    }
   }
  },
  {
   "cell_type":"code",
   "source":[
    "y_pred = clf.predict(X_test)\n",
    "print(f'dokładność -> accuracy: {metrics.accuracy_score(y_test,y_pred)}')"
   ],
   "execution_count":7,
   "outputs":[
    {
     "name":"stdout",
     "text":[
      "dokładność -> accuracy: 0.6536796536796536\n"
     ],
     "output_type":"stream"
    }
   ],
   "metadata":{
    "datalore":{
     "node_id":"mRV8dCwQQxiZ6DD6G1qwjN",
     "type":"CODE",
     "hide_input_from_viewers":true,
     "hide_output_from_viewers":true
    }
   }
  }
 ],
 "metadata":{
  "kernelspec":{
   "display_name":"Python",
   "language":"python",
   "name":"python"
  },
  "datalore":{
   "computation_mode":"JUPYTER",
   "package_manager":"pip",
   "base_environment":"default",
   "packages":[],
   "report_row_ids":[],
   "version":3
  }
 },
 "nbformat":4,
 "nbformat_minor":4
}